{
 "cells": [
  {
   "cell_type": "markdown",
   "id": "44083880-813c-4953-987d-7138a476bc2a",
   "metadata": {},
   "source": [
    "Objective:\n",
    "This project analyzes how hospital costs, patient readmissions, and other key factors influence patient outcomes and satisfaction levels. The goal is to determine if higher hospital expenses correlate with better patient recovery or if they negatively impact satisfaction.\n",
    "\n",
    "Dataset Overview:\n",
    "The dataset consists of 984 patient records with the following key fields:\n",
    "\n",
    "Cost – Total expenses incurred per patient.\n",
    "Outcome – Whether the patient Recovered (1) or remained Stable (0).\n",
    "Readmission – Whether the patient was readmitted after discharge.\n",
    "Satisfaction Score – Patient's rating of hospital services (scale 1-5).\n",
    "Length of Stay – The total number of days the patient was hospitalized."
   ]
  },
  {
   "cell_type": "code",
   "execution_count": 7,
   "id": "92686cfd-4249-48a6-a04a-7be39889202c",
   "metadata": {},
   "outputs": [
    {
     "name": "stderr",
     "output_type": "stream",
     "text": [
      "<>:9: SyntaxWarning: invalid escape sequence '\\P'\n",
      "<>:9: SyntaxWarning: invalid escape sequence '\\P'\n",
      "C:\\Users\\Admin\\AppData\\Local\\Temp\\ipykernel_15104\\194408059.py:9: SyntaxWarning: invalid escape sequence '\\P'\n",
      "  df = pd.read_csv(\"D:\\Projects\\Our projects for CV\\Cost Vs Outcome Analysis\\hospital data analysis.csv\")\n"
     ]
    },
    {
     "data": {
      "text/html": [
       "<div>\n",
       "<style scoped>\n",
       "    .dataframe tbody tr th:only-of-type {\n",
       "        vertical-align: middle;\n",
       "    }\n",
       "\n",
       "    .dataframe tbody tr th {\n",
       "        vertical-align: top;\n",
       "    }\n",
       "\n",
       "    .dataframe thead th {\n",
       "        text-align: right;\n",
       "    }\n",
       "</style>\n",
       "<table border=\"1\" class=\"dataframe\">\n",
       "  <thead>\n",
       "    <tr style=\"text-align: right;\">\n",
       "      <th></th>\n",
       "      <th>Patient_ID</th>\n",
       "      <th>Age</th>\n",
       "      <th>Gender</th>\n",
       "      <th>Condition</th>\n",
       "      <th>Procedure</th>\n",
       "      <th>Cost</th>\n",
       "      <th>Length_of_Stay</th>\n",
       "      <th>Readmission</th>\n",
       "      <th>Outcome</th>\n",
       "      <th>Satisfaction</th>\n",
       "    </tr>\n",
       "  </thead>\n",
       "  <tbody>\n",
       "    <tr>\n",
       "      <th>0</th>\n",
       "      <td>1</td>\n",
       "      <td>45</td>\n",
       "      <td>Female</td>\n",
       "      <td>Heart Disease</td>\n",
       "      <td>Angioplasty</td>\n",
       "      <td>15000</td>\n",
       "      <td>5</td>\n",
       "      <td>No</td>\n",
       "      <td>Recovered</td>\n",
       "      <td>4</td>\n",
       "    </tr>\n",
       "    <tr>\n",
       "      <th>1</th>\n",
       "      <td>2</td>\n",
       "      <td>60</td>\n",
       "      <td>Male</td>\n",
       "      <td>Diabetes</td>\n",
       "      <td>Insulin Therapy</td>\n",
       "      <td>2000</td>\n",
       "      <td>3</td>\n",
       "      <td>Yes</td>\n",
       "      <td>Stable</td>\n",
       "      <td>3</td>\n",
       "    </tr>\n",
       "    <tr>\n",
       "      <th>2</th>\n",
       "      <td>3</td>\n",
       "      <td>32</td>\n",
       "      <td>Female</td>\n",
       "      <td>Fractured Arm</td>\n",
       "      <td>X-Ray and Splint</td>\n",
       "      <td>500</td>\n",
       "      <td>1</td>\n",
       "      <td>No</td>\n",
       "      <td>Recovered</td>\n",
       "      <td>5</td>\n",
       "    </tr>\n",
       "    <tr>\n",
       "      <th>3</th>\n",
       "      <td>4</td>\n",
       "      <td>75</td>\n",
       "      <td>Male</td>\n",
       "      <td>Stroke</td>\n",
       "      <td>CT Scan and Medication</td>\n",
       "      <td>10000</td>\n",
       "      <td>7</td>\n",
       "      <td>Yes</td>\n",
       "      <td>Stable</td>\n",
       "      <td>2</td>\n",
       "    </tr>\n",
       "    <tr>\n",
       "      <th>4</th>\n",
       "      <td>5</td>\n",
       "      <td>50</td>\n",
       "      <td>Female</td>\n",
       "      <td>Cancer</td>\n",
       "      <td>Surgery and Chemotherapy</td>\n",
       "      <td>25000</td>\n",
       "      <td>10</td>\n",
       "      <td>No</td>\n",
       "      <td>Recovered</td>\n",
       "      <td>4</td>\n",
       "    </tr>\n",
       "  </tbody>\n",
       "</table>\n",
       "</div>"
      ],
      "text/plain": [
       "   Patient_ID  Age  Gender      Condition                 Procedure   Cost  \\\n",
       "0           1   45  Female  Heart Disease               Angioplasty  15000   \n",
       "1           2   60    Male       Diabetes           Insulin Therapy   2000   \n",
       "2           3   32  Female  Fractured Arm          X-Ray and Splint    500   \n",
       "3           4   75    Male         Stroke    CT Scan and Medication  10000   \n",
       "4           5   50  Female         Cancer  Surgery and Chemotherapy  25000   \n",
       "\n",
       "   Length_of_Stay Readmission    Outcome  Satisfaction  \n",
       "0               5          No  Recovered             4  \n",
       "1               3         Yes     Stable             3  \n",
       "2               1          No  Recovered             5  \n",
       "3               7         Yes     Stable             2  \n",
       "4              10          No  Recovered             4  "
      ]
     },
     "execution_count": 7,
     "metadata": {},
     "output_type": "execute_result"
    }
   ],
   "source": [
    "import pandas as pd\n",
    "import numpy as np\n",
    "import matplotlib.pyplot as plt\n",
    "import seaborn as sns\n",
    "import statsmodels.api as sm\n",
    "import scipy.stats as stats\n",
    "\n",
    "# Load dataset (replace 'your_data.csv' with actual filename)\n",
    "df = pd.read_csv(\"D:\\Projects\\Our projects for CV\\Cost Vs Outcome Analysis\\hospital data analysis.csv\")\n",
    "\n",
    "# Display first few rows\n",
    "df.head()\n"
   ]
  },
  {
   "cell_type": "code",
   "execution_count": 9,
   "id": "90a4f780-e0fe-45a2-931d-a573cbb4d064",
   "metadata": {},
   "outputs": [
    {
     "data": {
      "text/plain": [
       "Patient_ID        0\n",
       "Age               0\n",
       "Gender            0\n",
       "Condition         0\n",
       "Procedure         0\n",
       "Cost              0\n",
       "Length_of_Stay    0\n",
       "Readmission       0\n",
       "Outcome           0\n",
       "Satisfaction      0\n",
       "dtype: int64"
      ]
     },
     "execution_count": 9,
     "metadata": {},
     "output_type": "execute_result"
    }
   ],
   "source": [
    "# Check for missing values in each column\n",
    "df.isnull().sum()\n"
   ]
  },
  {
   "cell_type": "code",
   "execution_count": 11,
   "id": "520f6a66-eb28-4fce-9861-8b3487151f84",
   "metadata": {},
   "outputs": [
    {
     "data": {
      "text/html": [
       "<div>\n",
       "<style scoped>\n",
       "    .dataframe tbody tr th:only-of-type {\n",
       "        vertical-align: middle;\n",
       "    }\n",
       "\n",
       "    .dataframe tbody tr th {\n",
       "        vertical-align: top;\n",
       "    }\n",
       "\n",
       "    .dataframe thead th {\n",
       "        text-align: right;\n",
       "    }\n",
       "</style>\n",
       "<table border=\"1\" class=\"dataframe\">\n",
       "  <thead>\n",
       "    <tr style=\"text-align: right;\">\n",
       "      <th></th>\n",
       "      <th>Patient_ID</th>\n",
       "      <th>Age</th>\n",
       "      <th>Cost</th>\n",
       "      <th>Length_of_Stay</th>\n",
       "      <th>Satisfaction</th>\n",
       "    </tr>\n",
       "  </thead>\n",
       "  <tbody>\n",
       "    <tr>\n",
       "      <th>count</th>\n",
       "      <td>984.000000</td>\n",
       "      <td>984.000000</td>\n",
       "      <td>984.000000</td>\n",
       "      <td>984.000000</td>\n",
       "      <td>984.000000</td>\n",
       "    </tr>\n",
       "    <tr>\n",
       "      <th>mean</th>\n",
       "      <td>500.329268</td>\n",
       "      <td>53.754065</td>\n",
       "      <td>8367.479675</td>\n",
       "      <td>37.663618</td>\n",
       "      <td>3.598577</td>\n",
       "    </tr>\n",
       "    <tr>\n",
       "      <th>std</th>\n",
       "      <td>288.979531</td>\n",
       "      <td>14.941135</td>\n",
       "      <td>7761.990976</td>\n",
       "      <td>19.595805</td>\n",
       "      <td>0.883002</td>\n",
       "    </tr>\n",
       "    <tr>\n",
       "      <th>min</th>\n",
       "      <td>1.000000</td>\n",
       "      <td>25.000000</td>\n",
       "      <td>100.000000</td>\n",
       "      <td>1.000000</td>\n",
       "      <td>2.000000</td>\n",
       "    </tr>\n",
       "    <tr>\n",
       "      <th>25%</th>\n",
       "      <td>250.750000</td>\n",
       "      <td>45.000000</td>\n",
       "      <td>1000.000000</td>\n",
       "      <td>21.000000</td>\n",
       "      <td>3.000000</td>\n",
       "    </tr>\n",
       "    <tr>\n",
       "      <th>50%</th>\n",
       "      <td>500.500000</td>\n",
       "      <td>55.000000</td>\n",
       "      <td>6000.000000</td>\n",
       "      <td>38.000000</td>\n",
       "      <td>4.000000</td>\n",
       "    </tr>\n",
       "    <tr>\n",
       "      <th>75%</th>\n",
       "      <td>750.250000</td>\n",
       "      <td>65.000000</td>\n",
       "      <td>15000.000000</td>\n",
       "      <td>54.250000</td>\n",
       "      <td>4.000000</td>\n",
       "    </tr>\n",
       "    <tr>\n",
       "      <th>max</th>\n",
       "      <td>1000.000000</td>\n",
       "      <td>78.000000</td>\n",
       "      <td>25000.000000</td>\n",
       "      <td>76.000000</td>\n",
       "      <td>5.000000</td>\n",
       "    </tr>\n",
       "  </tbody>\n",
       "</table>\n",
       "</div>"
      ],
      "text/plain": [
       "        Patient_ID         Age          Cost  Length_of_Stay  Satisfaction\n",
       "count   984.000000  984.000000    984.000000      984.000000    984.000000\n",
       "mean    500.329268   53.754065   8367.479675       37.663618      3.598577\n",
       "std     288.979531   14.941135   7761.990976       19.595805      0.883002\n",
       "min       1.000000   25.000000    100.000000        1.000000      2.000000\n",
       "25%     250.750000   45.000000   1000.000000       21.000000      3.000000\n",
       "50%     500.500000   55.000000   6000.000000       38.000000      4.000000\n",
       "75%     750.250000   65.000000  15000.000000       54.250000      4.000000\n",
       "max    1000.000000   78.000000  25000.000000       76.000000      5.000000"
      ]
     },
     "execution_count": 11,
     "metadata": {},
     "output_type": "execute_result"
    }
   ],
   "source": [
    "# Summary statistics of numerical columns\n",
    "df.describe()\n"
   ]
  },
  {
   "cell_type": "code",
   "execution_count": 15,
   "id": "e5012b58-a33b-4e0c-9350-d95a3602c50c",
   "metadata": {},
   "outputs": [
    {
     "data": {
      "text/plain": [
       "Patient_ID         int64\n",
       "Age                int64\n",
       "Gender            object\n",
       "Condition         object\n",
       "Procedure         object\n",
       "Cost               int64\n",
       "Length_of_Stay     int64\n",
       "Readmission       object\n",
       "Outcome           object\n",
       "Satisfaction       int64\n",
       "dtype: object"
      ]
     },
     "execution_count": 15,
     "metadata": {},
     "output_type": "execute_result"
    }
   ],
   "source": [
    "# Check data types of each column\n",
    "df.dtypes\n"
   ]
  },
  {
   "cell_type": "code",
   "execution_count": 17,
   "id": "1d851e0f-d323-4c42-a29c-3eb39e748cdf",
   "metadata": {},
   "outputs": [],
   "source": [
    "# Convert Readmission ('No' → 0, 'Yes' → 1)\n",
    "df['Readmission'] = df['Readmission'].map({'No': 0, 'Yes': 1})\n",
    "\n",
    "# Convert Outcome into numeric (modify according to your dataset)\n",
    "df['Outcome'] = df['Outcome'].map({'Poor': 0, 'Average': 1, 'Good': 2, 'Excellent': 3})\n"
   ]
  },
  {
   "cell_type": "code",
   "execution_count": 19,
   "id": "0cabb5c0-eafb-416a-b939-9a5a3013e23e",
   "metadata": {},
   "outputs": [],
   "source": [
    "# Convert categorical variables into dummy/one-hot encoding\n",
    "df = pd.get_dummies(df, columns=['Gender', 'Condition', 'Procedure'], drop_first=True)\n"
   ]
  },
  {
   "cell_type": "code",
   "execution_count": 21,
   "id": "08a0ffd8-4829-4c6b-a68b-1acecc266a9a",
   "metadata": {},
   "outputs": [
    {
     "data": {
      "text/plain": [
       "Patient_ID                                          int64\n",
       "Age                                                 int64\n",
       "Cost                                                int64\n",
       "Length_of_Stay                                      int64\n",
       "Readmission                                         int64\n",
       "Outcome                                           float64\n",
       "Satisfaction                                        int64\n",
       "Gender_Male                                          bool\n",
       "Condition_Appendicitis                               bool\n",
       "Condition_Cancer                                     bool\n",
       "Condition_Childbirth                                 bool\n",
       "Condition_Diabetes                                   bool\n",
       "Condition_Fractured Arm                              bool\n",
       "Condition_Fractured Leg                              bool\n",
       "Condition_Heart Attack                               bool\n",
       "Condition_Heart Disease                              bool\n",
       "Condition_Hypertension                               bool\n",
       "Condition_Kidney Stones                              bool\n",
       "Condition_Osteoarthritis                             bool\n",
       "Condition_Prostate Cancer                            bool\n",
       "Condition_Respiratory Infection                      bool\n",
       "Condition_Stroke                                     bool\n",
       "Procedure_Antibiotics and Rest                       bool\n",
       "Procedure_Appendectomy                               bool\n",
       "Procedure_CT Scan and Medication                     bool\n",
       "Procedure_Cardiac Catheterization                    bool\n",
       "Procedure_Cast and Physical Therapy                  bool\n",
       "Procedure_Delivery and Postnatal Care                bool\n",
       "Procedure_Epinephrine Injection                      bool\n",
       "Procedure_Insulin Therapy                            bool\n",
       "Procedure_Lithotripsy                                bool\n",
       "Procedure_Medication and Counseling                  bool\n",
       "Procedure_Physical Therapy and Pain Management       bool\n",
       "Procedure_Radiation Therapy                          bool\n",
       "Procedure_Surgery and Chemotherapy                   bool\n",
       "Procedure_X-Ray and Splint                           bool\n",
       "dtype: object"
      ]
     },
     "execution_count": 21,
     "metadata": {},
     "output_type": "execute_result"
    }
   ],
   "source": [
    "# Check data types again\n",
    "df.dtypes\n"
   ]
  },
  {
   "cell_type": "code",
   "execution_count": 23,
   "id": "1f17d134-1d6e-4cb5-8c6f-9e0e3b2ca277",
   "metadata": {},
   "outputs": [
    {
     "data": {
      "image/png": "[encoded data removed]",
      "text/plain": [
       "<Figure size 800x600 with 2 Axes>"
      ]
     },
     "metadata": {},
     "output_type": "display_data"
    }
   ],
   "source": [
    "import seaborn as sns\n",
    "import matplotlib.pyplot as plt\n",
    "\n",
    "# Compute correlation matrix\n",
    "correlation_matrix = df[['Cost', 'Length_of_Stay', 'Readmission', 'Outcome', 'Satisfaction']].corr()\n",
    "\n",
    "# Plot heatmap\n",
    "plt.figure(figsize=(8, 6))\n",
    "sns.heatmap(correlation_matrix, annot=True, cmap=\"coolwarm\", linewidths=0.5)\n",
    "plt.title(\"Correlation Matrix\")\n",
    "plt.show()\n"
   ]
  },
  {
   "cell_type": "code",
   "execution_count": 25,
   "id": "809dc0c9-9f07-43dc-8dc7-b69bb40d6184",
   "metadata": {},
   "outputs": [
    {
     "name": "stdout",
     "output_type": "stream",
     "text": [
      "T-statistic: 21.2586\n",
      "P-value: 0.0000\n",
      "Reject H₀: Higher hospital costs significantly lower satisfaction.\n"
     ]
    }
   ],
   "source": [
    "import numpy as np\n",
    "from scipy import stats\n",
    "\n",
    "# Find median cost\n",
    "median_cost = df['Cost'].median()\n",
    "\n",
    "# Split into two groups\n",
    "low_cost = df[df['Cost'] <= median_cost]['Satisfaction']\n",
    "high_cost = df[df['Cost'] > median_cost]['Satisfaction']\n",
    "\n",
    "# Perform independent t-test\n",
    "t_stat, p_value = stats.ttest_ind(low_cost, high_cost, equal_var=False)\n",
    "\n",
    "# Print results\n",
    "print(f\"T-statistic: {t_stat:.4f}\")\n",
    "print(f\"P-value: {p_value:.4f}\")\n",
    "\n",
    "# Interpretation\n",
    "alpha = 0.05  # Significance level\n",
    "if p_value < alpha:\n",
    "    print(\"Reject H₀: Higher hospital costs significantly lower satisfaction.\")\n",
    "else:\n",
    "    print(\"Fail to reject H₀: No significant impact of cost on satisfaction.\")\n"
   ]
  },
  {
   "cell_type": "code",
   "execution_count": 31,
   "id": "1a10a948-be44-4b71-b5ca-96869001648d",
   "metadata": {},
   "outputs": [
    {
     "name": "stdout",
     "output_type": "stream",
     "text": [
      "Readmission\n",
      "0    720\n",
      "1    264\n",
      "Name: count, dtype: int64\n"
     ]
    }
   ],
   "source": [
    "print(df['Readmission'].value_counts())\n",
    "\n"
   ]
  },
  {
   "cell_type": "code",
   "execution_count": 45,
   "id": "95aef10c-df64-4f41-8bad-283eb0f90199",
   "metadata": {},
   "outputs": [
    {
     "data": {
      "image/png": "[encoded data removed]",
      "text/plain": [
       "<Figure size 640x480 with 1 Axes>"
      ]
     },
     "metadata": {},
     "output_type": "display_data"
    }
   ],
   "source": [
    "import seaborn as sns\n",
    "import matplotlib.pyplot as plt\n",
    "\n",
    "# Boxplot of cost vs. readmission\n",
    "sns.boxplot(x=df['Readmission'], y=df['Cost'])\n",
    "plt.title(\"Cost Distribution for Readmitted vs. Non-Readmitted Patients\")\n",
    "plt.show()\n"
   ]
  }
 ],
 "metadata": {
  "kernelspec": {
   "display_name": "Python [conda env:base] *",
   "language": "python",
   "name": "conda-base-py"
  },
  "language_info": {
   "codemirror_mode": {
    "name": "ipython",
    "version": 3
   },
   "file_extension": ".py",
   "mimetype": "text/x-python",
   "name": "python",
   "nbconvert_exporter": "python",
   "pygments_lexer": "ipython3",
   "version": "3.12.7"
  }
 },
 "nbformat": 4,
 "nbformat_minor": 5
}
