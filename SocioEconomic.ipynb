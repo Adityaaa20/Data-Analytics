{
 "cells": [
  {
   "cell_type": "markdown",
   "id": "5b16acee-5f8a-436f-8125-63230a43909e",
   "metadata": {},
   "source": [
    "Machine Learning for Identifying Socioeconomic Risk Factors of Non-Communicable Diseases (NCDs)\n",
    "Introduction\n",
    "Non-Communicable Diseases (NCDs) — such as cardiovascular diseases, diabetes, and cancer — are not only influenced by biological factors but also by socioeconomic determinants like income, education, occupation, and access to healthcare. Understanding these risk factors is essential for developing targeted public health interventions and reducing health disparities.\n",
    "\n",
    "This project uses Machine Learning (ML) techniques to identify and quantify the impact of various socioeconomic factors on NCD risk. By analyzing large datasets, the model pinpoints which social and economic variables have the strongest correlations with disease prevalence, helping policymakers design data-driven strategies to mitigate these risks.\n",
    "\n",
    "Objectives\n",
    "To collect and preprocess socioeconomic and health datasets.\n",
    "To build ML models that identify key predictors of NCDs.\n",
    "To interpret model outputs using Explainable AI (XAI) to highlight influential socioeconomic factors.\n",
    "Methodology\n",
    "The project follows these steps:\n",
    "\n",
    "Data Collection and Cleaning: Sourcing datasets containing both health outcomes and socioeconomic variables.\n",
    "Exploratory Data Analysis (EDA): Understanding data distributions, correlations, and outliers.\n",
    "Feature Selection: Using statistical tests and feature importance scores to identify significant predictors.\n",
    "Model Building: Training various models (Logistic Regression, Decision Trees, Random Forest) for classification and regression tasks.\n",
    "Model Evaluation: Assessing performance using accuracy, precision, recall, and F1-score metrics.\n",
    "Interpretability: Utilizing SHAP values or LIME to explain how socioeconomic factors influence predictions.\n",
    "Tools and Libraries\n",
    "Python: NumPy, Pandas, Matplotlib, Seaborn\n",
    "ML Libraries: Scikit-learn, TensorFlow\n",
    "Data Visualization: Plotly, Seaborn\n",
    "Explainable AI: SHAP, LIME\n",
    "Notebooks: Jupyter"
   ]
  },
  {
   "cell_type": "code",
   "execution_count": null,
   "id": "b7a3a144-7ba7-4ce8-887f-8a18875eb2dd",
   "metadata": {},
   "outputs": [],
   "source": [
    "from xgboost import XGBClassifier\n",
    "from sklearn.preprocessing import StandardScaler, LabelEncoder\n",
    "from sklearn.model_selection import train_test_split\n",
    "from sklearn.metrics import accuracy_score, classification_report\n",
    "# Convert IncomeGroup to categorical before encoding\n",
    "df[\"IncomeGroup\"] = df[\"IncomeGroup\"].astype(str)\n",
    "# Encode target column correctly\n",
    "target_encoder = LabelEncoder()\n",
    "df[\"IncomeGroup\"] = target_encoder.fit_transform(df[\"IncomeGroup\"])\n",
    "# Define features (X) and target (y)\n",
    "X = df.drop(columns=[\"IncomeGroup\"]) # Remove target column from features\n",
    "y = df[\"IncomeGroup\"]\n",
    "# Standardize numerical features\n",
    "scaler = StandardScaler()\n",
    "X_scaled = scaler.fit_transform(X)\n",
    "# Proper Train-Test Split\n",
    "X_train, X_test, y_train, y_test = train_test_split(X_scaled, y, test_size=0.3, random_state=42, \n",
    "stratify=y)\n",
    "# Initialize XGBoost Classifier with reduced complexity\n",
    "model = XGBClassifier(\n",
    " n_estimators=50, \n",
    " max_depth=3, \n",
    " learning_rate=0.05, \n",
    " subsample=0.8, \n",
    " colsample_bytree=0.8, \n",
    " random_state=42\n",
    ")\n",
    "# Train the model\n",
    "model.fit(X_train, y_train)\n",
    "# Make predictions\n",
    "y_pred = model.predict(X_test)\n",
    "# Evaluate performance\n",
    "accuracy = accuracy_score(y_test, y_pred)\n",
    "print(f\"Model Accuracy: {accuracy:.2f}\")\n",
    "print(\"Classification Report:\")\n",
    "print(classification_report(y_test, y_pred, target_names=target_encoder.classes_))\n"
   ]
  }
 ],
 "metadata": {
  "kernelspec": {
   "display_name": "Python [conda env:base] *",
   "language": "python",
   "name": "conda-base-py"
  },
  "language_info": {
   "codemirror_mode": {
    "name": "ipython",
    "version": 3
   },
   "file_extension": ".py",
   "mimetype": "text/x-python",
   "name": "python",
   "nbconvert_exporter": "python",
   "pygments_lexer": "ipython3",
   "version": "3.12.7"
  }
 },
 "nbformat": 4,
 "nbformat_minor": 5
}
